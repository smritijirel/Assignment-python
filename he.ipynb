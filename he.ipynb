{
 "cells": [
  {
   "cell_type": "code",
   "execution_count": 2,
   "metadata": {},
   "outputs": [
    {
     "name": "stdout",
     "output_type": "stream",
     "text": [
      "The number is odd.\n"
     ]
    }
   ],
   "source": [
    "#Section 1: Conditional Statement\n",
    " # Write a program that asks the user to enter a number and checks whether the number is even or odd.\n",
    "\n",
    "number = int(input(\"Enter a number: \"))\n",
    "if number % 2 == 0:\n",
    "    print(\"The number is even.\")\n",
    "else:\n",
    "    print(\"The number is odd.\")"
   ]
  },
  {
   "cell_type": "code",
   "execution_count": 3,
   "metadata": {},
   "outputs": [
    {
     "name": "stdout",
     "output_type": "stream",
     "text": [
      "The number is positive.\n"
     ]
    }
   ],
   "source": [
    "#Write a program that asks the user to enter a number and checks whether positive, negative, or zero.\n",
    "\n",
    "number = float(input(\"Enter a number: \"))\n",
    "if number > 0:\n",
    "    print(\"The number is positive.\")\n",
    "elif number < 0:\n",
    "    print(\"The number is negative.\")\n",
    "else:\n",
    "    print(\"The number is zero.\")"
   ]
  },
  {
   "cell_type": "code",
   "execution_count": 4,
   "metadata": {},
   "outputs": [
    {
     "name": "stdout",
     "output_type": "stream",
     "text": [
      "You are eligible to vote.\n"
     ]
    }
   ],
   "source": [
    "# Check if a person is eligible to vote\n",
    "\n",
    "age =int(input(\"Enter your age: \"))\n",
    "if age >= 18:\n",
    "    print(\"You are eligible to vote.\")\n",
    "else:\n",
    "    print(\"You are not eligible to vote.\")"
   ]
  },
  {
   "cell_type": "code",
   "execution_count": 5,
   "metadata": {},
   "outputs": [
    {
     "name": "stdout",
     "output_type": "stream",
     "text": [
      "The triangle is scalene.\n"
     ]
    }
   ],
   "source": [
    "#Determine the type of triangle\n",
    "\n",
    "side1 = float(input(\"Enter the length of the first side: \"))\n",
    "side2 = float(input(\"Enter the length of the second side: \"))\n",
    "side3 = float(input(\"Enter the length of the third side: \"))\n",
    "\n",
    "if side1 == side2 == side3:\n",
    "    print(\"The triangle is equilateral.\")\n",
    "elif side1 == side2 or side1 == side3 or side2 == side3:\n",
    "    print(\"The triangle is isosceles.\")\n",
    "else:\n",
    "    print(\"The triangle is scalene.\")"
   ]
  },
  {
   "cell_type": "code",
   "execution_count": 7,
   "metadata": {},
   "outputs": [
    {
     "name": "stdout",
     "output_type": "stream",
     "text": [
      "Password is incorrect.\n"
     ]
    }
   ],
   "source": [
    "#Check if a password matches a predefined password\n",
    "\n",
    "predefined_password = \"Python123\"\n",
    "password = input(\"Enter the password: \")\n",
    "\n",
    "if password == predefined_password:\n",
    "    print(\"Password is correct.\")\n",
    "else:\n",
    "    print(\"Password is incorrect.\")"
   ]
  },
  {
   "cell_type": "code",
   "execution_count": 82,
   "metadata": {},
   "outputs": [
    {
     "name": "stdout",
     "output_type": "stream",
     "text": [
      "5, 10, 15, 20, 25, 30, 35, 40, 45, 50\n"
     ]
    }
   ],
   "source": [
    "#Section 2: For Loops\n",
    "\n",
    "#Multiplication Table: Write a Python program to print themultiplication table of a given number using a for loop.\n",
    "\n",
    "num = int(5)\n",
    "for i in range(1, 11):\n",
    "    print(num * i, end=\", \" if i < 10 else \"\\n\")\n"
   ]
  },
  {
   "cell_type": "code",
   "execution_count": 81,
   "metadata": {},
   "outputs": [
    {
     "name": "stdout",
     "output_type": "stream",
     "text": [
      "Number of vowels: 5\n"
     ]
    }
   ],
   "source": [
    "#Count Vowels: Write a program to count and display the number of vowels in a given string.\n",
    "\n",
    "string = input(\"aeroplane\")\n",
    "\n",
    "vowel_count = 0\n",
    "\n",
    "for char in string.lower():  \n",
    "    if char in 'aeiou':\n",
    "        vowel_count += 1\n",
    "\n",
    "print(f\"Number of vowels: {vowel_count}\")\n"
   ]
  },
  {
   "cell_type": "code",
   "execution_count": 75,
   "metadata": {},
   "outputs": [
    {
     "name": "stdout",
     "output_type": "stream",
     "text": [
      "Sum of even numbers: 10\n"
     ]
    }
   ],
   "source": [
    "#Sum of Even Numbers Create a program to find the sum of all even numbers in a list using a for loop.\n",
    "\n",
    "numbers = [2, 5, 8, 3]\n",
    "\n",
    "even_sum = 0\n",
    "\n",
    "for num in numbers:\n",
    "    if num % 2 == 0:\n",
    "        even_sum += num\n",
    "\n",
    "print(f\"Sum of even numbers: {even_sum}\")"
   ]
  },
  {
   "cell_type": "code",
   "execution_count": 76,
   "metadata": {},
   "outputs": [
    {
     "name": "stdout",
     "output_type": "stream",
     "text": [
      "Largest = 20, Smallest = 5\n"
     ]
    }
   ],
   "source": [
    "#Create a program to find the largest and smallest numbers in a list using a for loop.\n",
    "\n",
    "numbers = [10, 20, 5, 8]\n",
    "\n",
    "largest = smallest = numbers[0]\n",
    "\n",
    "for num in numbers:\n",
    "    if num > largest:\n",
    "        largest = num\n",
    "    if num < smallest:\n",
    "        smallest = num\n",
    "\n",
    "print(f\"Largest = {largest}, Smallest = {smallest}\")"
   ]
  },
  {
   "cell_type": "code",
   "execution_count": 78,
   "metadata": {},
   "outputs": [
    {
     "name": "stdout",
     "output_type": "stream",
     "text": [
      "Sum of digits: 3\n"
     ]
    }
   ],
   "source": [
    "#Write a program to calculate the sum of digits of a given number using a for loop.\n",
    "\n",
    "num = int(3)\n",
    "\n",
    "digit_sum = 0\n",
    "\n",
    "for digit in str(num):  \n",
    "    digit_sum += int(digit)\n",
    "\n",
    "print(f\"Sum of digits: {digit_sum}\")"
   ]
  },
  {
   "cell_type": "code",
   "execution_count": 80,
   "metadata": {},
   "outputs": [
    {
     "name": "stdout",
     "output_type": "stream",
     "text": [
      "Reversed string: itirms\n"
     ]
    }
   ],
   "source": [
    "#Write a program to reverse a given string using a for loop.\n",
    "\n",
    "string = input(\"smriti\")\n",
    "\n",
    "reversed_string = \"\"\n",
    "\n",
    "for char in string:\n",
    "    reversed_string = char + reversed_string  \n",
    "\n",
    "print(f\"Reversed string: {reversed_string}\")"
   ]
  },
  {
   "cell_type": "code",
   "execution_count": 32,
   "metadata": {},
   "outputs": [
    {
     "name": "stdout",
     "output_type": "stream",
     "text": [
      "120\n"
     ]
    }
   ],
   "source": [
    "#Section 3: Functions\n",
    "# #Factorial Function: Write a function factorial(n) that returns the factorial of a number using a for loop.\n",
    "\n",
    "def factorial(n):\n",
    "    result = 1\n",
    "    for i in range(1, n + 1):\n",
    "        result *= i\n",
    "    return result\n",
    "\n",
    "print(factorial(5))"
   ]
  },
  {
   "cell_type": "code",
   "execution_count": 33,
   "metadata": {},
   "outputs": [
    {
     "name": "stdout",
     "output_type": "stream",
     "text": [
      "True\n"
     ]
    }
   ],
   "source": [
    "#Prime Check Function: Create a function is_prime(n) to check whether a number is prime.\n",
    "\n",
    "def is_prime(n):\n",
    "    if n <= 1:\n",
    "        return False\n",
    "    for i in range(2, int(n ** 0.5) + 1):\n",
    "        if n % i == 0:\n",
    "            return False\n",
    "    return True\n",
    "\n",
    "print(is_prime(7))"
   ]
  },
  {
   "cell_type": "code",
   "execution_count": 34,
   "metadata": {},
   "outputs": [
    {
     "name": "stdout",
     "output_type": "stream",
     "text": [
      "Maximum value in the list: 7\n"
     ]
    }
   ],
   "source": [
    "#Find Maximum in List:Write a function find_max(lst) to find and return the maximum value in a list.\n",
    "\n",
    "def find_max(lst):\n",
    "    if not lst:\n",
    "        return None  # Return None if the list is empty\n",
    "    max_val = lst[0]\n",
    "    for num in lst:\n",
    "        if num > max_val:\n",
    "            max_val = num\n",
    "    return max_val\n",
    "\n",
    "lst = [1, 3, 7, 0]\n",
    "print(f\"Maximum value in the list: {find_max(lst)}\")\n"
   ]
  },
  {
   "cell_type": "code",
   "execution_count": 85,
   "metadata": {},
   "outputs": [
    {
     "name": "stdout",
     "output_type": "stream",
     "text": [
      "False\n"
     ]
    }
   ],
   "source": [
    "#Write a function palindrome_check(string) that returns True if the given string is a palindrome, otherwise False.\n",
    "\n",
    "def palindrome_check(book):\n",
    "\n",
    "    return book == book[::-1]\n",
    "\n",
    "print(palindrome_check(\"book\"))"
   ]
  },
  {
   "cell_type": "code",
   "execution_count": 86,
   "metadata": {},
   "outputs": [
    {
     "name": "stdout",
     "output_type": "stream",
     "text": [
      "Sum of squares of first 10 natural numbers: 385\n"
     ]
    }
   ],
   "source": [
    "#Write a function sum_of_squares(n) that returns the sum of squares of the first n natural numbers.\n",
    "\n",
    "def sum_of_squares(n):\n",
    "    total = 0\n",
    "    for i in range(1, n + 1):\n",
    "        total += i ** 2\n",
    "    return total\n",
    "\n",
    "print(f\"Sum of squares of first {n} natural numbers: {sum_of_squares(n)}\")\n"
   ]
  },
  {
   "cell_type": "code",
   "execution_count": 87,
   "metadata": {},
   "outputs": [
    {
     "name": "stdout",
     "output_type": "stream",
     "text": [
      "Sum of squares of first 10 natural numbers: 385\n"
     ]
    }
   ],
   "source": [
    "# This is a repetition of the same function for clarity:\n",
    "def sum_of_squares(n):\n",
    "    total = 0\n",
    "    for i in range(1, n + 1):\n",
    "        total += i ** 2\n",
    "    return total\n",
    "\n",
    "print(f\"Sum of squares of first {n} natural numbers: {sum_of_squares(n)}\")\n"
   ]
  },
  {
   "cell_type": "code",
   "execution_count": 46,
   "metadata": {},
   "outputs": [
    {
     "name": "stdout",
     "output_type": "stream",
     "text": [
      "Area: 15, Perimeter: 16\n"
     ]
    }
   ],
   "source": [
    "#Section 4: Classes\n",
    "#Rectangle Class:Define a class Rectangle with:\n",
    "\n",
    "class Rectangle:\n",
    "    def __init__(self, length, width):\n",
    "        self.length = 5\n",
    "        self.width = 3\n",
    "    \n",
    "    def area(self):\n",
    "        return self.length * self.width\n",
    "    \n",
    "    def perimeter(self):\n",
    "        return 2 * (self.length + self.width)\n",
    "\n",
    "rect = Rectangle(5, 3)\n",
    "print(f\"Area: {rect.area()}, Perimeter: {rect.perimeter()}\")"
   ]
  },
  {
   "cell_type": "code",
   "execution_count": 48,
   "metadata": {},
   "outputs": [
    {
     "name": "stdout",
     "output_type": "stream",
     "text": [
      "Name: Smriti, Roll Number: 35, Marks: 90\n",
      "Passed: True\n"
     ]
    }
   ],
   "source": [
    "#Student Class: Create a class Student with:\n",
    "\n",
    "class Student:\n",
    "    def __init__(self, name, roll_number, marks):\n",
    "        self.name = name\n",
    "        self.roll_number = roll_number\n",
    "        self.marks = marks\n",
    "    \n",
    "    def display_details(self):\n",
    "        print(f\"Name: {self.name}, Roll Number: {self.roll_number}, Marks: {self.marks}\")\n",
    "    \n",
    "    def is_passed(self):\n",
    "        return self.marks >= 40\n",
    "\n",
    "student = Student(\"Smriti\",35,90)\n",
    "student.display_details()\n",
    "print(f\"Passed: {student.is_passed()}\")"
   ]
  },
  {
   "cell_type": "code",
   "execution_count": 49,
   "metadata": {},
   "outputs": [
    {
     "name": "stdout",
     "output_type": "stream",
     "text": [
      "Area: 78.53981633974483, Circumference: 31.41592653589793\n"
     ]
    }
   ],
   "source": [
    "#Define a class Circle with:\n",
    "\n",
    "import math\n",
    "\n",
    "class Circle:\n",
    "    def __init__(self, radius):\n",
    "        self.radius = radius\n",
    "    \n",
    "    def area(self):\n",
    "        return math.pi * self.radius ** 2\n",
    "    \n",
    "    def circumference(self):\n",
    "        return 2 * math.pi * self.radius\n",
    "\n",
    "circle = Circle(5)\n",
    "print(f\"Area: {circle.area()}, Circumference: {circle.circumference()}\")\n"
   ]
  },
  {
   "cell_type": "code",
   "execution_count": 50,
   "metadata": {},
   "outputs": [
    {
     "name": "stdout",
     "output_type": "stream",
     "text": [
      "Deposited 500. New balance: 1500\n",
      "Withdrew 300. New balance: 1200\n",
      "Balance: 1200\n"
     ]
    }
   ],
   "source": [
    "#Create a class BankAccount with:\n",
    "\n",
    "class BankAccount:\n",
    "    def __init__(self, account_number, account_holder, balance=0):\n",
    "        self.account_number = account_number\n",
    "        self.account_holder = account_holder\n",
    "        self.balance = balance\n",
    "    \n",
    "    def deposit(self, amount):\n",
    "        self.balance += amount\n",
    "        print(f\"Deposited {amount}. New balance: {self.balance}\")\n",
    "    \n",
    "    def withdraw(self, amount):\n",
    "        if amount <= self.balance:\n",
    "            self.balance -= amount\n",
    "            print(f\"Withdrew {amount}. New balance: {self.balance}\")\n",
    "        else:\n",
    "            print(\"Insufficient funds.\")\n",
    "    \n",
    "    def display_balance(self):\n",
    "        print(f\"Balance: {self.balance}\")\n",
    "\n",
    "account = BankAccount(12345, \"Smriti Jirel\",1000)\n",
    "account.deposit(500)\n",
    "account.withdraw(300)\n",
    "account.display_balance()\n"
   ]
  },
  {
   "cell_type": "code",
   "execution_count": 51,
   "metadata": {},
   "outputs": [
    {
     "name": "stdout",
     "output_type": "stream",
     "text": [
      "Title: Python Programming, Author: John Smith, Price: 45.0\n"
     ]
    }
   ],
   "source": [
    "#A class Book with:\n",
    "\n",
    "class Book:\n",
    "    def __init__(self, title, author, price):\n",
    "        self.title = title\n",
    "        self.author = author\n",
    "        self.price = price\n",
    "    \n",
    "    def apply_discount(self, discount):\n",
    "        self.price -= self.price * (discount / 100)\n",
    "    \n",
    "    def display_details(self):\n",
    "        print(f\"Title: {self.title}, Author: {self.author}, Price: {self.price}\")\n",
    "\n",
    "# Example Usage\n",
    "book = Book(\"Python Programming\", \"John Smith\", 50)\n",
    "book.apply_discount(10)\n",
    "book.display_details()"
   ]
  },
  {
   "cell_type": "code",
   "execution_count": 52,
   "metadata": {},
   "outputs": [
    {
     "name": "stdout",
     "output_type": "stream",
     "text": [
      "15\n",
      "5\n",
      "50\n",
      "2.0\n"
     ]
    }
   ],
   "source": [
    "#Create a class Calculator with:\n",
    "\n",
    "class Calculator:\n",
    "    def add(self, a, b):\n",
    "        return a + b\n",
    "    \n",
    "    def subtract(self, a, b):\n",
    "        return a - b\n",
    "    \n",
    "    def multiply(self, a, b):\n",
    "        return a * b\n",
    "    \n",
    "    def divide(self, a, b):\n",
    "        if b != 0:\n",
    "            return a / b\n",
    "        else:\n",
    "            return \"Cannot divide by zero\"\n",
    "\n",
    "calc = Calculator()\n",
    "print(calc.add(10, 5))\n",
    "print(calc.subtract(10, 5))\n",
    "print(calc.multiply(10, 5))\n",
    "print(calc.divide(10, 5))"
   ]
  },
  {
   "cell_type": "code",
   "execution_count": 55,
   "metadata": {},
   "outputs": [
    {
     "name": "stdout",
     "output_type": "stream",
     "text": [
      "Hello, my name is smriti, I am 22 years old, and I am a female.\n",
      "Hello, my name is Kiran, I am 22 years old, and I am a female. I work as a Computer Engineer.\n"
     ]
    }
   ],
   "source": [
    "#Write a class Person with:\n",
    "\n",
    "class Person:\n",
    "    def __init__(name, age, gender):\n",
    "        name=\"Smriti\"\n",
    "        age=22\n",
    "        gender=\"female\"\n",
    "    \n",
    "    def introduce():\n",
    "        print(f\"Hello, my name is {\"smriti\"}, I am {22} years old, and I am a {\"female\"}.\")\n",
    "\n",
    "class Employee(Person):\n",
    "    def __init__(name, age, gender, job_title):\n",
    "        super().__init__(name, age, gender)\n",
    "        self.job_title = job_title\n",
    "    \n",
    "    def introduce():\n",
    "        print(f\"Hello, my name is {\"Kiran\"}, I am {22} years old, and I am a {\"female\"}. I work as a {\"Computer Engineer\"}.\")\n",
    "\n",
    "Person.introduce()\n",
    "\n",
    "Employee.introduce()"
   ]
  },
  {
   "cell_type": "code",
   "execution_count": 56,
   "metadata": {},
   "outputs": [
    {
     "name": "stdout",
     "output_type": "stream",
     "text": [
      "File contents:\n",
      "1\n",
      "2\n",
      "3\n",
      "4\n",
      "5\n",
      "6\n",
      "7\n",
      "8\n",
      "9\n",
      "10\n",
      "\n"
     ]
    }
   ],
   "source": [
    "#Section 4: File Handling\n",
    "\n",
    "# Creating and writing to the file\n",
    "with open('data.txt', 'w') as file:\n",
    "    for i in range(1, 11):\n",
    "        file.write(f\"{i}\\n\")\n",
    "\n",
    "# Reading the contents of the file\n",
    "with open('data.txt', 'r') as file:\n",
    "    contents = file.read()\n",
    "    print(\"File contents:\")\n",
    "    print(contents)"
   ]
  },
  {
   "cell_type": "code",
   "execution_count": 57,
   "metadata": {},
   "outputs": [
    {
     "name": "stdout",
     "output_type": "stream",
     "text": [
      "The file 'sample.txt' was not found.\n"
     ]
    }
   ],
   "source": [
    "#Word Count in File: Write a program that reads a file named sample.txt, counts the number of words in it, and prints the result.\n",
    "\n",
    "try:\n",
    "    with open('sample.txt', 'r') as file:\n",
    "        contents = file.read()\n",
    "        words = contents.split()\n",
    "        word_count = len(words)\n",
    "        print(f\"Number of words in the file: {word_count}\")\n",
    "except FileNotFoundError:\n",
    "    print(\"The file 'sample.txt' was not found.\")"
   ]
  },
  {
   "cell_type": "code",
   "execution_count": 58,
   "metadata": {},
   "outputs": [
    {
     "name": "stdout",
     "output_type": "stream",
     "text": [
      "The result of 10.0 divided by 20.0 is 0.5.\n"
     ]
    }
   ],
   "source": [
    "#Division with Error Handling: Write a program that takes two numbers as input and divides the first number by the second.\n",
    "\n",
    "try:\n",
    "    num1 = float(input(\"Enter the first number: \"))\n",
    "    num2 = float(input(\"Enter the second number: \"))\n",
    "    result = num1 / num2\n",
    "except ZeroDivisionError:\n",
    "    print(\"Error: Cannot divide by zero.\")\n",
    "else:\n",
    "    print(f\"The result of {num1} divided by {num2} is {result}.\")"
   ]
  },
  {
   "cell_type": "code",
   "execution_count": 59,
   "metadata": {},
   "outputs": [
    {
     "name": "stdout",
     "output_type": "stream",
     "text": [
      "You entered the integer: 10\n"
     ]
    }
   ],
   "source": [
    "#Integer Input Validation: Create a program that asks the user to input an integer.\n",
    "\n",
    "try:\n",
    "    user_input = int(input(\"Please enter an integer: \"))\n",
    "except ValueError:\n",
    "    print(\"Invalid input, please enter an integer.\")\n",
    "else:\n",
    "    print(f\"You entered the integer: {user_input}\")"
   ]
  },
  {
   "cell_type": "code",
   "execution_count": 60,
   "metadata": {},
   "outputs": [
    {
     "name": "stdout",
     "output_type": "stream",
     "text": [
      "Error: The file 'unknown.txt' was not found.\n"
     ]
    }
   ],
   "source": [
    "#File Not Found Error Handling: Write a script that:\n",
    "\n",
    "try:\n",
    "    with open('unknown.txt', 'r') as file:\n",
    "        contents = file.read()\n",
    "except FileNotFoundError:\n",
    "    print(\"Error: The file 'unknown.txt' was not found.\")"
   ]
  },
  {
   "cell_type": "code",
   "execution_count": 89,
   "metadata": {},
   "outputs": [
    {
     "name": "stdout",
     "output_type": "stream",
     "text": [
      "Welcome to the Number Guessing Game!\n",
      "I have selected a number between 1 and 100.\n",
      "You have 10 attempts to guess the number correctly.\n",
      "Too low! Try again.\n",
      "Too high! Try again.\n",
      "Too high! Try again.\n",
      "Too high! Try again.\n",
      "Too high! Try again.\n",
      "Too high! Try again.\n",
      "Too low! Try again.\n",
      "Too high! Try again.\n",
      "Too high! Try again.\n",
      "Too high! Try again.\n",
      "Sorry, you've run out of attempts. The correct number was 16.\n"
     ]
    }
   ],
   "source": [
    "#\n",
    "\n",
    "import random\n",
    "\n",
    "def guess_the_number():\n",
    "    print(\"Welcome to the Number Guessing Game!\")\n",
    "    print(\"I have selected a number between 1 and 100.\")\n",
    "    print(\"You have 10 attempts to guess the number correctly.\")\n",
    "\n",
    "    # The computer selects a random number between 1 and 100\n",
    "    number_to_guess = random.randint(1, 100)\n",
    "    \n",
    "    attempts = 10  # The player has 10 attempts to guess the number\n",
    "    \n",
    "    while attempts > 0:\n",
    "        # Prompt the player to enter a guess\n",
    "        try:\n",
    "            guess = int(input(f\"You have {attempts} attempts left. Enter your guess: \"))\n",
    "        except ValueError:\n",
    "            print(\"Invalid input. Please enter an integer.\")\n",
    "            continue\n",
    "        \n",
    "        # Check if the guess is correct, too high, or too low\n",
    "        if guess < number_to_guess:\n",
    "            print(\"Too low! Try again.\")\n",
    "        elif guess > number_to_guess:\n",
    "            print(\"Too high! Try again.\")\n",
    "        else:\n",
    "            print(f\"Congratulations! You guessed the number {number_to_guess} correctly!\")\n",
    "            break\n",
    "        \n",
    "        # Decrease the number of attempts\n",
    "        attempts -= 1\n",
    "        \n",
    "        # If no attempts are left, the player loses\n",
    "        if attempts == 0:\n",
    "            print(f\"Sorry, you've run out of attempts. The correct number was {number_to_guess}.\")\n",
    "            break\n",
    "\n",
    "# Start the game\n",
    "guess_the_number()\n"
   ]
  }
 ],
 "metadata": {
  "kernelspec": {
   "display_name": "Python 3",
   "language": "python",
   "name": "python3"
  },
  "language_info": {
   "codemirror_mode": {
    "name": "ipython",
    "version": 3
   },
   "file_extension": ".py",
   "mimetype": "text/x-python",
   "name": "python",
   "nbconvert_exporter": "python",
   "pygments_lexer": "ipython3",
   "version": "3.13.0"
  }
 },
 "nbformat": 4,
 "nbformat_minor": 2
}
